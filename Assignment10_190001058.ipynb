{
  "nbformat": 4,
  "nbformat_minor": 0,
  "metadata": {
    "colab": {
      "name": "Assignment10_190001058.ipynb",
      "provenance": [],
      "collapsed_sections": []
    },
    "kernelspec": {
      "name": "python3",
      "display_name": "Python 3"
    },
    "language_info": {
      "name": "python"
    }
  },
  "cells": [
    {
      "cell_type": "markdown",
      "source": [
        "# CS354N\n",
        "---\n",
        "**Name: Somya Mehta**\n",
        "\n",
        "**Roll No.: 190001058**\n",
        "\n",
        "**Assignment - 10**\n",
        "\n"
      ],
      "metadata": {
        "id": "_z6ZNx5svlcI"
      }
    },
    {
      "cell_type": "code",
      "execution_count": null,
      "metadata": {
        "id": "ibDOVK5KhNT4"
      },
      "outputs": [],
      "source": [
        "# Write a Program to build an Auto-Associative Neural Network (\n",
        "# Discrete Hopfield Neural Network).Use Hebb rule to store\n",
        "# vectors (1,1,1,1) and (1,1,-1,-1) in an auto associative neural net.\n",
        "# a. Find the weight matrix.\n",
        "# b. Test the net using vector (1,1,1,1) as input.\n",
        "# c. Test net using (1,1,-1,-1) as input.\n",
        "# d. Test the net using (1,1,1,0) as input.\n",
        "# e. (1,4,3,2) is update order for this problem.\n",
        "\n",
        "import numpy\n",
        "class Hopfield:\n",
        "    def __init__(self, ptrns, dimension, updt_ord):\n",
        "        self.wts = []\n",
        "        self.dimension = dimension\n",
        "        for i in range(dimension):\n",
        "            wt = [] \n",
        "            for j in range(dimension):\n",
        "                wt.append(0)\n",
        "            self.wts.append(wt.copy())\n",
        "        self.ptrns = []\n",
        "        self.updt_ord = updt_ord\n",
        "        for i in range(len(ptrns)):\n",
        "            result = self.biplr_to_bnry(ptrns[i])\n",
        "            self.ptrns.append(result)\n",
        "            for i in range(dimension):\n",
        "                for j in range(dimension):\n",
        "                    if i != j:\n",
        "                        self.wts[i][j] += (2 * result[i] - 1) * (2 * result[j] - 1)\n",
        "    \n",
        "    def biplr_to_bnry(self, vec):\n",
        "        result = vec.copy()\n",
        "        for i in range(len(vec)):\n",
        "            if result[i] == -1:\n",
        "                result[i] = 0\n",
        "        return result\n",
        "    \n",
        "    def bnry_to_biplr(self, vec):\n",
        "        result = vec.copy()\n",
        "        for i in range(len(vec)):\n",
        "            if result[i] == 0:\n",
        "                result[i] = -1\n",
        "        return result\n",
        "    \n",
        "    \n",
        "    def act_func(self, val):\n",
        "        if val > 0:\n",
        "            return 1\n",
        "        elif val < 0:\n",
        "            return 0\n",
        "        return val\n",
        "    \n",
        "    def update(self, x, y):\n",
        "        prev_y = y.copy()\n",
        "        print(\"Prev_y = \", self.bnry_to_biplr(prev_y))\n",
        "        for i in self.updt_ord:\n",
        "            yin_i = x[i]\n",
        "            for j in range(self.dimension):\n",
        "                if i != j:\n",
        "                    yin_i += y[j] * self.wts[j][i]\n",
        "            y[i] = self.act_func(yin_i)\n",
        "        \n",
        "        print(\"New_y = \", self.bnry_to_biplr(y))\n",
        "        print(\"\\n\")\n",
        "        for i in range(self.dimension):\n",
        "            if prev_y[i] != y[i]:\n",
        "                return False\n",
        "        return True\n",
        "        \n",
        "    def test_input(self, x):\n",
        "        x = self.biplr_to_bnry(x)\n",
        "        y = x.copy()\n",
        "        while True:\n",
        "            if self.update(x, y):\n",
        "                break\n",
        "        return self.bnry_to_biplr(y)"
      ]
    },
    {
      "cell_type": "code",
      "source": [
        "\n",
        "ptrns = [[1, 1, 1, 1]]\n",
        "ptrns.append( [1, 1, -1, -1])\n",
        "updt_ord = [0, 3, 2, 1]\n",
        "dim = 4\n",
        "hopfield_network = Hopfield(ptrns, dim, updt_ord)\n",
        "\n",
        "print(hopfield_network.wts)\n",
        "\n",
        "res = hopfield_network.test_input([1, 1, 1, 1])\n",
        "print(\"Converged Input (pattern it matched with) \", res)\n",
        "\n",
        "res = hopfield_network.test_input([1, 1, -1, -1])\n",
        "print(\"Converged Input (pattern it matched with) \", res)\n",
        "\n",
        "res = hopfield_network.test_input([1, 1, 1, 0])\n",
        "print(\"Converged Input (pattern it matched with) \", res)"
      ],
      "metadata": {
        "colab": {
          "base_uri": "https://localhost:8080/"
        },
        "id": "_Js8IyQilQZz",
        "outputId": "ef7d08cb-67cd-4bb7-81c6-e3c160d6b0ec"
      },
      "execution_count": null,
      "outputs": [
        {
          "output_type": "stream",
          "name": "stdout",
          "text": [
            "[[0, 2, 0, 0], [2, 0, 0, 0], [0, 0, 0, 2], [0, 0, 2, 0]]\n",
            "Prev_y =  [1, 1, 1, 1]\n",
            "New_y =  [1, 1, 1, 1]\n",
            "\n",
            "\n",
            "Converged Input (pattern it matched with)  [1, 1, 1, 1]\n",
            "Prev_y =  [1, 1, -1, -1]\n",
            "New_y =  [1, 1, -1, -1]\n",
            "\n",
            "\n",
            "Converged Input (pattern it matched with)  [1, 1, -1, -1]\n",
            "Prev_y =  [1, 1, 1, -1]\n",
            "New_y =  [1, 1, 1, 1]\n",
            "\n",
            "\n",
            "Prev_y =  [1, 1, 1, 1]\n",
            "New_y =  [1, 1, 1, 1]\n",
            "\n",
            "\n",
            "Converged Input (pattern it matched with)  [1, 1, 1, 1]\n"
          ]
        }
      ]
    },
    {
      "cell_type": "code",
      "source": [
        "!jupyter nbconvert --to html Assignment10_190001058.ipynb "
      ],
      "metadata": {
        "id": "hg6a5EMF0g2j",
        "outputId": "0a956766-cbf3-45ec-8029-39a6b324b2b5",
        "colab": {
          "base_uri": "https://localhost:8080/"
        }
      },
      "execution_count": null,
      "outputs": [
        {
          "output_type": "stream",
          "name": "stdout",
          "text": [
            "[NbConvertApp] Converting notebook Assignment10_190001058.ipynb to html\n",
            "[NbConvertApp] Writing 288232 bytes to Assignment10_190001058.html\n"
          ]
        }
      ]
    }
  ]
}