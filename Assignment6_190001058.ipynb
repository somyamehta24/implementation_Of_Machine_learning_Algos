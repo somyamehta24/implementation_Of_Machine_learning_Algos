{
  "nbformat": 4,
  "nbformat_minor": 0,
  "metadata": {
    "colab": {
      "name": "Assignment6-190001058.ipynb",
      "provenance": []
    },
    "kernelspec": {
      "name": "python3",
      "display_name": "Python 3"
    },
    "language_info": {
      "name": "python"
    }
  },
  "cells": [
    {
      "cell_type": "code",
      "execution_count": null,
      "metadata": {
        "id": "iE2vkzCXWQNs"
      },
      "outputs": [],
      "source": [
        "import numpy as np\n",
        "class Model:\n",
        "  def __init__(self, num_inputs):\n",
        "    self.weights = np.zeros(num_inputs)\n",
        "    self.bias = 0\n",
        "  def predict(self, inputs):\n",
        "      sum = np.dot(inputs, self.weights[:]) + self.bias\n",
        "      if sum >= 0:\n",
        "        prediction = 1\n",
        "      else:\n",
        "        prediction = 0\n",
        "      return prediction\n",
        "  def fit(self, inputs, label, learning_rate=0.5):\n",
        "      epochNo = 0\n",
        "      while True:\n",
        "        flag = True\n",
        "        for val, res in zip(inputs, label):\n",
        "          predictedOutput=self.predict(val)\n",
        "          if(predictedOutput != res):\n",
        "            flag = False\n",
        "            break\n",
        "        if flag == True:\n",
        "          break\n",
        "        epochNo = epochNo + 1\n",
        "        for val, res in zip(inputs, label):\n",
        "          prediction= self.predict(val)\n",
        "          self.weights[:] += learning_rate * (res-prediction) * val\n",
        "          self.bias += learning_rate *(res-prediction)\n",
        "        print(\"Updated Weights: \")\n",
        "        for i in self.weights:\n",
        "          print(i,end=\" \")\n",
        "          print(\"\")\n",
        "          print(f\"Updated Bias: {self.bias}\")\n",
        "          print(\"\")\n",
        "          print(str(epochNo)+\" number of epochs took place\")"
      ]
    },
    {
      "cell_type": "code",
      "source": [
        "# Q1\n",
        "\n",
        "train_inputs= np.array([[1,1],[1,2],[2,-1],[2,0],[-1,2],[-2,1],[-1,-1],[-2,-2]])\n",
        "# 00 means C1 01 means C2 10 means C3 11 means C4\n",
        "labels1= np.array([0,0,0,0,1,1,1,1])\n",
        "labels2= np.array([0,0,1,1,0,0,1,1])\n",
        "# 2 input features for 1st neuron total epochs :- 1\n",
        "mcp1 = Model(2)\n",
        "mcp1.fit(train_inputs,labels1)\n",
        "# 2 input features for 1st neuron total epochs :- 2\n",
        "mcp2 = Model(2)\n",
        "mcp2.fit(train_inputs,labels2)\n",
        "# predicted class with the help of 2 neuron\n",
        "for inputs in train_inputs:\n",
        "  print(inputs, end=\"\")\n",
        "print(mcp1.predict(inputs), mcp2.predict(inputs))"
      ],
      "metadata": {
        "colab": {
          "base_uri": "https://localhost:8080/"
        },
        "id": "Kb1ZyP9pXRl3",
        "outputId": "5458a73d-52b9-43f9-f982-257193471d3c"
      },
      "execution_count": null,
      "outputs": [
        {
          "output_type": "stream",
          "name": "stdout",
          "text": [
            "Updated Weights: \n",
            "-1.0 \n",
            "Updated Bias: 0.0\n",
            "\n",
            "1 number of epochs took place\n",
            "0.5 \n",
            "Updated Bias: 0.0\n",
            "\n",
            "1 number of epochs took place\n",
            "Updated Weights: \n",
            "-1.5 \n",
            "Updated Bias: -0.5\n",
            "\n",
            "2 number of epochs took place\n",
            "-0.5 \n",
            "Updated Bias: -0.5\n",
            "\n",
            "2 number of epochs took place\n",
            "Updated Weights: \n",
            "0.5 \n",
            "Updated Bias: 0.0\n",
            "\n",
            "1 number of epochs took place\n",
            "-1.0 \n",
            "Updated Bias: 0.0\n",
            "\n",
            "1 number of epochs took place\n",
            "[1 1][1 2][ 2 -1][2 0][-1  2][-2  1][-1 -1][-2 -2]1 1\n"
          ]
        }
      ]
    },
    {
      "cell_type": "code",
      "source": [
        "# Q2\n",
        "\n",
        "# 2 input Xor\n",
        "train_inputs= np.array([[0,0],[0,1],[1,0],[1,1]])\n",
        "labels1= np.array([0,0,0,0])\n",
        "labels2= np.array([0,1,1,0])\n",
        "# for 2 input xor and 3 input xor It cannot be done as it is linearly inseparable\n",
        "# so we can do but we have to take that many lines i.e we have to make each input as a different class\n",
        "# so then only we can do and after that also we have to combine few classes so perceptron layered network will be required\n",
        "# also we can see by running this cell it will run an infinite loop\n",
        "# 2 input features for 1st neuron total epochs :- 1\n",
        "mcp1 = Model(2)\n",
        "mcp1.fit(train_inputs,labels1)\n",
        "# 2 input features for 1st neuron total epochs :- 2\n",
        "mcp2 = Model(2)\n",
        "mcp2.fit(train_inputs,labels2)\n",
        "# predicted class with the help of 2 neuron\n",
        "for inputs in train_inputs:\n",
        "  print(inputs, end=\"\")\n",
        "print(mcp1.predict(inputs), mcp2.predict(inputs))"
      ],
      "metadata": {
        "id": "y78x4MRDYaik"
      },
      "execution_count": null,
      "outputs": []
    },
    {
      "cell_type": "code",
      "source": [
        "# Q3\n",
        "\n",
        "train_input = np.array([[1, 4], [1, 5], [2, 4], [2, 5], [3, 1], [3, 2], [4, 1], [4, 2]])\n",
        "labels = np.array([0, 0, 0, 0, 1, 1, 1, 1])\n",
        "mcp = Model(2)\n",
        "mcp.fit(train_input,labels)\n",
        "for inputs in train_input:\n",
        "  print(inputs, mcp.predict(inputs))"
      ],
      "metadata": {
        "colab": {
          "base_uri": "https://localhost:8080/"
        },
        "id": "fztIYmprZBUC",
        "outputId": "3bdc95b8-5d90-4e70-b166-46edfedccdb4"
      },
      "execution_count": null,
      "outputs": [
        {
          "output_type": "stream",
          "name": "stdout",
          "text": [
            "Updated Weights: \n",
            "1.0 \n",
            "Updated Bias: 0.0\n",
            "\n",
            "1 number of epochs took place\n",
            "-1.5 \n",
            "Updated Bias: 0.0\n",
            "\n",
            "1 number of epochs took place\n",
            "[1 4] 0\n",
            "[1 5] 0\n",
            "[2 4] 0\n",
            "[2 5] 0\n",
            "[3 1] 1\n",
            "[3 2] 1\n",
            "[4 1] 1\n",
            "[4 2] 1\n"
          ]
        }
      ]
    },
    {
      "cell_type": "code",
      "source": [
        ""
      ],
      "metadata": {
        "id": "AlBEvPLtKm-y"
      },
      "execution_count": null,
      "outputs": []
    }
  ]
}